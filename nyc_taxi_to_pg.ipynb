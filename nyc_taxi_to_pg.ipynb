{
 "cells": [
  {
   "cell_type": "markdown",
   "metadata": {},
   "source": [
    "# Import NYC Data to a PostgreSQL docker"
   ]
  },
  {
   "cell_type": "markdown",
   "metadata": {},
   "source": [
    "## pip install packages"
   ]
  },
  {
   "cell_type": "code",
   "execution_count": 2,
   "metadata": {},
   "outputs": [
    {
     "name": "stdout",
     "output_type": "stream",
     "text": [
      "Requirement already satisfied: cython in .\\venv\\lib\\site-packages (from -r requirements.txt (line 1)) (0.29.28)\n",
      "Requirement already satisfied: wheel in .\\venv\\lib\\site-packages (from -r requirements.txt (line 2)) (0.37.1)\n",
      "Requirement already satisfied: ipykernel in .\\venv\\lib\\site-packages (from -r requirements.txt (line 3)) (6.10.0)\n",
      "Requirement already satisfied: pandas in .\\venv\\lib\\site-packages (from -r requirements.txt (line 4)) (1.4.1)\n",
      "Requirement already satisfied: psycopg2 in .\\venv\\lib\\site-packages (from -r requirements.txt (line 5)) (2.9.3)\n",
      "Requirement already satisfied: sqlalchemy in .\\venv\\lib\\site-packages (from -r requirements.txt (line 6)) (1.4.32)\n",
      "Requirement already satisfied: matplotlib-inline<0.2.0,>=0.1.0 in .\\venv\\lib\\site-packages (from ipykernel->-r requirements.txt (line 3)) (0.1.3)\n",
      "Requirement already satisfied: ipython>=7.23.1 in .\\venv\\lib\\site-packages (from ipykernel->-r requirements.txt (line 3)) (8.2.0)\n",
      "Requirement already satisfied: psutil in .\\venv\\lib\\site-packages (from ipykernel->-r requirements.txt (line 3)) (5.9.0)\n",
      "Requirement already satisfied: nest-asyncio in .\\venv\\lib\\site-packages (from ipykernel->-r requirements.txt (line 3)) (1.5.4)\n",
      "Requirement already satisfied: debugpy<2.0,>=1.0.0 in .\\venv\\lib\\site-packages (from ipykernel->-r requirements.txt (line 3)) (1.6.0)\n",
      "Requirement already satisfied: tornado<7.0,>=5.0 in .\\venv\\lib\\site-packages (from ipykernel->-r requirements.txt (line 3)) (6.1)\n",
      "Requirement already satisfied: jupyter-client<8.0 in .\\venv\\lib\\site-packages (from ipykernel->-r requirements.txt (line 3)) (7.1.2)\n",
      "Requirement already satisfied: traitlets<6.0,>=5.1.0 in .\\venv\\lib\\site-packages (from ipykernel->-r requirements.txt (line 3)) (5.1.1)\n",
      "Requirement already satisfied: pytz>=2020.1 in .\\venv\\lib\\site-packages (from pandas->-r requirements.txt (line 4)) (2022.1)\n",
      "Requirement already satisfied: python-dateutil>=2.8.1 in .\\venv\\lib\\site-packages (from pandas->-r requirements.txt (line 4)) (2.8.2)\n",
      "Requirement already satisfied: numpy>=1.18.5 in .\\venv\\lib\\site-packages (from pandas->-r requirements.txt (line 4)) (1.22.3)\n",
      "Requirement already satisfied: greenlet!=0.4.17 in .\\venv\\lib\\site-packages (from sqlalchemy->-r requirements.txt (line 6)) (1.1.2)\n",
      "Requirement already satisfied: pickleshare in .\\venv\\lib\\site-packages (from ipython>=7.23.1->ipykernel->-r requirements.txt (line 3)) (0.7.5)\n",
      "Requirement already satisfied: setuptools>=18.5 in .\\venv\\lib\\site-packages (from ipython>=7.23.1->ipykernel->-r requirements.txt (line 3)) (57.4.0)\n",
      "Requirement already satisfied: decorator in .\\venv\\lib\\site-packages (from ipython>=7.23.1->ipykernel->-r requirements.txt (line 3)) (5.1.1)\n",
      "Requirement already satisfied: jedi>=0.16 in .\\venv\\lib\\site-packages (from ipython>=7.23.1->ipykernel->-r requirements.txt (line 3)) (0.18.1)\n",
      "Requirement already satisfied: backcall in .\\venv\\lib\\site-packages (from ipython>=7.23.1->ipykernel->-r requirements.txt (line 3)) (0.2.0)\n",
      "Requirement already satisfied: colorama in .\\venv\\lib\\site-packages (from ipython>=7.23.1->ipykernel->-r requirements.txt (line 3)) (0.4.4)\n",
      "Requirement already satisfied: prompt-toolkit!=3.0.0,!=3.0.1,<3.1.0,>=2.0.0 in .\\venv\\lib\\site-packages (from ipython>=7.23.1->ipykernel->-r requirements.txt (line 3)) (3.0.28)\n",
      "Requirement already satisfied: pygments>=2.4.0 in .\\venv\\lib\\site-packages (from ipython>=7.23.1->ipykernel->-r requirements.txt (line 3)) (2.11.2)\n",
      "Requirement already satisfied: stack-data in .\\venv\\lib\\site-packages (from ipython>=7.23.1->ipykernel->-r requirements.txt (line 3)) (0.2.0)\n",
      "Requirement already satisfied: entrypoints in .\\venv\\lib\\site-packages (from jupyter-client<8.0->ipykernel->-r requirements.txt (line 3)) (0.4)\n",
      "Requirement already satisfied: pyzmq>=13 in .\\venv\\lib\\site-packages (from jupyter-client<8.0->ipykernel->-r requirements.txt (line 3)) (22.3.0)\n",
      "Requirement already satisfied: jupyter-core>=4.6.0 in .\\venv\\lib\\site-packages (from jupyter-client<8.0->ipykernel->-r requirements.txt (line 3)) (4.9.2)\n",
      "Requirement already satisfied: six>=1.5 in .\\venv\\lib\\site-packages (from python-dateutil>=2.8.1->pandas->-r requirements.txt (line 4)) (1.16.0)\n",
      "Requirement already satisfied: parso<0.9.0,>=0.8.0 in .\\venv\\lib\\site-packages (from jedi>=0.16->ipython>=7.23.1->ipykernel->-r requirements.txt (line 3)) (0.8.3)\n",
      "Requirement already satisfied: pywin32>=1.0 in .\\venv\\lib\\site-packages (from jupyter-core>=4.6.0->jupyter-client<8.0->ipykernel->-r requirements.txt (line 3)) (303)\n",
      "Requirement already satisfied: wcwidth in .\\venv\\lib\\site-packages (from prompt-toolkit!=3.0.0,!=3.0.1,<3.1.0,>=2.0.0->ipython>=7.23.1->ipykernel->-r requirements.txt (line 3)) (0.2.5)\n",
      "Requirement already satisfied: pure-eval in .\\venv\\lib\\site-packages (from stack-data->ipython>=7.23.1->ipykernel->-r requirements.txt (line 3)) (0.2.2)\n",
      "Requirement already satisfied: asttokens in .\\venv\\lib\\site-packages (from stack-data->ipython>=7.23.1->ipykernel->-r requirements.txt (line 3)) (2.0.5)\n",
      "Requirement already satisfied: executing in .\\venv\\lib\\site-packages (from stack-data->ipython>=7.23.1->ipykernel->-r requirements.txt (line 3)) (0.8.3)\n"
     ]
    }
   ],
   "source": [
    "!pip install -r requirements.txt "
   ]
  },
  {
   "cell_type": "markdown",
   "metadata": {},
   "source": [
    "## imports"
   ]
  },
  {
   "cell_type": "code",
   "execution_count": 5,
   "metadata": {},
   "outputs": [],
   "source": [
    "import pandas                   as pd\n",
    "from sqlalchemy                 import create_engine\n",
    "\n",
    "import sqlalchemy\n",
    "import psycopg2    "
   ]
  },
  {
   "cell_type": "markdown",
   "metadata": {},
   "source": [
    "## Create a DB connection with SQLAlchemy"
   ]
  },
  {
   "cell_type": "code",
   "execution_count": 7,
   "metadata": {},
   "outputs": [],
   "source": [
    "sDialect     = 'postgresql'\n",
    "sHostName    = 'localhost'\n",
    "sUserName    = 'myuser'\n",
    "sPassword    = 'mypass'\n",
    "sPort        = '5432'\n",
    "sDatabase    = 'mydb'\n",
    "\n",
    "sDB_URI      = f'{sDialect}://{sUserName}:{sPassword}@{sHostName}:{sPort}/{sDatabase}'\n",
    "engine       = create_engine   (sDB_URI)"
   ]
  },
  {
   "cell_type": "markdown",
   "metadata": {},
   "source": [
    "## Read the CSV into a dataframe and write the dataframe into the DB"
   ]
  },
  {
   "cell_type": "code",
   "execution_count": 10,
   "metadata": {},
   "outputs": [],
   "source": [
    "dData        = pd.read_csv('data/nyc_data_rides.csv')\n",
    "dData.to_sql(con=engine, name='rides')"
   ]
  },
  {
   "cell_type": "code",
   "execution_count": null,
   "metadata": {},
   "outputs": [],
   "source": []
  }
 ],
 "metadata": {
  "interpreter": {
   "hash": "66b97a8e6e7bf5d462053b8fa285315b740a7569df88525b4a6bc7df475f8bd3"
  },
  "kernelspec": {
   "display_name": "Python 3.9.7 ('venv': venv)",
   "language": "python",
   "name": "python3"
  },
  "language_info": {
   "codemirror_mode": {
    "name": "ipython",
    "version": 3
   },
   "file_extension": ".py",
   "mimetype": "text/x-python",
   "name": "python",
   "nbconvert_exporter": "python",
   "pygments_lexer": "ipython3",
   "version": "3.9.7"
  },
  "orig_nbformat": 4
 },
 "nbformat": 4,
 "nbformat_minor": 2
}
